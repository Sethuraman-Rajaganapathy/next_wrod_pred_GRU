{
 "cells": [
  {
   "cell_type": "code",
   "execution_count": 1,
   "metadata": {},
   "outputs": [
    {
     "name": "stderr",
     "output_type": "stream",
     "text": [
      "[nltk_data] Downloading package gutenberg to\n",
      "[nltk_data]     C:\\Users\\Windows\\AppData\\Roaming\\nltk_data...\n",
      "[nltk_data]   Package gutenberg is already up-to-date!\n"
     ]
    }
   ],
   "source": [
    "import nltk\n",
    "nltk.download('gutenberg')\n",
    "from nltk.corpus import gutenberg\n",
    "import pandas as pd\n",
    "\n",
    "### loading the dataset\n",
    "data=gutenberg.raw('shakespeare-hamlet.txt')\n",
    "\n",
    "### saving dataset to a file\n",
    "with open('hamlet.txt','w') as file:\n",
    "    file.write(data)"
   ]
  },
  {
   "cell_type": "code",
   "execution_count": 2,
   "metadata": {},
   "outputs": [
    {
     "name": "stdout",
     "output_type": "stream",
     "text": [
      "WARNING:tensorflow:From c:\\Users\\Windows\\LLM_course\\myevnv\\Lib\\site-packages\\keras\\src\\losses.py:2976: The name tf.losses.sparse_softmax_cross_entropy is deprecated. Please use tf.compat.v1.losses.sparse_softmax_cross_entropy instead.\n",
      "\n"
     ]
    }
   ],
   "source": [
    "### Installing required libraries\n",
    "import numpy as np\n",
    "from tensorflow.keras.preprocessing.text import Tokenizer\n",
    "from tensorflow.keras. preprocessing.sequence import pad_sequences\n",
    "from sklearn.model_selection import train_test_split\n",
    "import tensorflow as tf"
   ]
  },
  {
   "cell_type": "code",
   "execution_count": 3,
   "metadata": {},
   "outputs": [],
   "source": [
    "### loading the dataset\n",
    "with open('hamlet.txt','r') as file:\n",
    "    text=file.read().lower()"
   ]
  },
  {
   "cell_type": "code",
   "execution_count": 4,
   "metadata": {},
   "outputs": [
    {
     "data": {
      "text/plain": [
       "4818"
      ]
     },
     "execution_count": 4,
     "metadata": {},
     "output_type": "execute_result"
    }
   ],
   "source": [
    "### Text preprocessing\n",
    "### Tokenizing the text\n",
    "tokenizer=Tokenizer()\n",
    "tokenizer.fit_on_texts([text])\n",
    "total_words=len(tokenizer.word_index)+1\n",
    "total_words"
   ]
  },
  {
   "cell_type": "code",
   "execution_count": 5,
   "metadata": {},
   "outputs": [],
   "source": [
    "### creating input sequences\n",
    "in_sequences=[]\n",
    "for line in text.split('\\n'):\n",
    "    token_lst=tokenizer.texts_to_sequences([line])[0]\n",
    "    for i in range(1,len(token_lst)):\n",
    "        n_gram_sequence=token_lst[:i+1]\n",
    "        in_sequences.append(n_gram_sequence)\n",
    "\n"
   ]
  },
  {
   "cell_type": "code",
   "execution_count": 6,
   "metadata": {},
   "outputs": [
    {
     "data": {
      "text/plain": [
       "array([[   0,    0,    0, ...,    0,    1,  687],\n",
       "       [   0,    0,    0, ...,    1,  687,    4],\n",
       "       [   0,    0,    0, ...,  687,    4,   45],\n",
       "       ...,\n",
       "       [   0,    0,    0, ...,    4,   45, 1047],\n",
       "       [   0,    0,    0, ...,   45, 1047,    4],\n",
       "       [   0,    0,    0, ..., 1047,    4,  193]])"
      ]
     },
     "execution_count": 6,
     "metadata": {},
     "output_type": "execute_result"
    }
   ],
   "source": [
    "### padding the sequences\n",
    "max_seq_len=max([len(x) for x in in_sequences])\n",
    "input_sequences=np.array(pad_sequences(in_sequences,maxlen=max_seq_len,padding='pre'))\n",
    "input_sequences"
   ]
  },
  {
   "cell_type": "code",
   "execution_count": 7,
   "metadata": {},
   "outputs": [],
   "source": [
    "### create predictors and label\n",
    "x,y=input_sequences[:,:-1],input_sequences[:,-1]"
   ]
  },
  {
   "cell_type": "code",
   "execution_count": 8,
   "metadata": {},
   "outputs": [],
   "source": [
    "y=tf.keras.utils.to_categorical(y,num_classes=total_words)"
   ]
  },
  {
   "cell_type": "code",
   "execution_count": 9,
   "metadata": {},
   "outputs": [],
   "source": [
    "### Splitting data into train and validation/test datasets\n",
    "x_train,x_test,y_train,y_test=train_test_split(x,y,test_size=0.2)"
   ]
  },
  {
   "cell_type": "code",
   "execution_count": 10,
   "metadata": {},
   "outputs": [
    {
     "name": "stdout",
     "output_type": "stream",
     "text": [
      "WARNING:tensorflow:From c:\\Users\\Windows\\LLM_course\\myevnv\\Lib\\site-packages\\keras\\src\\backend.py:873: The name tf.get_default_graph is deprecated. Please use tf.compat.v1.get_default_graph instead.\n",
      "\n",
      "WARNING:tensorflow:From c:\\Users\\Windows\\LLM_course\\myevnv\\Lib\\site-packages\\keras\\src\\optimizers\\__init__.py:309: The name tf.train.Optimizer is deprecated. Please use tf.compat.v1.train.Optimizer instead.\n",
      "\n",
      "Model: \"sequential\"\n",
      "_________________________________________________________________\n",
      " Layer (type)                Output Shape              Param #   \n",
      "=================================================================\n",
      " embedding (Embedding)       (None, 13, 100)           481800    \n",
      "                                                                 \n",
      " gru (GRU)                   (None, 13, 150)           113400    \n",
      "                                                                 \n",
      " dropout (Dropout)           (None, 13, 150)           0         \n",
      "                                                                 \n",
      " gru_1 (GRU)                 (None, 100)               75600     \n",
      "                                                                 \n",
      " dense (Dense)               (None, 4818)              486618    \n",
      "                                                                 \n",
      "=================================================================\n",
      "Total params: 1157418 (4.42 MB)\n",
      "Trainable params: 1157418 (4.42 MB)\n",
      "Non-trainable params: 0 (0.00 Byte)\n",
      "_________________________________________________________________\n"
     ]
    }
   ],
   "source": [
    "### Importig required libraries to train a LSTM RNN model\n",
    "from tensorflow.keras.models import Sequential\n",
    "from tensorflow.keras.layers import Embedding,Dense,Dropout,GRU\n",
    "\n",
    "### Define the mdoel\n",
    "model=Sequential()\n",
    "model.add(Embedding(total_words,100,input_length=(max_seq_len-1)))\n",
    "model.add(GRU(150,return_sequences=True))\n",
    "model.add(Dropout(0.2))\n",
    "model.add(GRU(100))\n",
    "model.add(Dense(total_words,activation='softmax'))\n",
    "\n",
    "### compiling the model\n",
    "model.compile(loss='categorical_crossentropy',optimizer='adam',metrics=['accuracy'])\n",
    "model.summary()"
   ]
  },
  {
   "cell_type": "code",
   "execution_count": 11,
   "metadata": {},
   "outputs": [
    {
     "name": "stdout",
     "output_type": "stream",
     "text": [
      "Epoch 1/50\n",
      "WARNING:tensorflow:From c:\\Users\\Windows\\LLM_course\\myevnv\\Lib\\site-packages\\keras\\src\\utils\\tf_utils.py:492: The name tf.ragged.RaggedTensorValue is deprecated. Please use tf.compat.v1.ragged.RaggedTensorValue instead.\n",
      "\n",
      "WARNING:tensorflow:From c:\\Users\\Windows\\LLM_course\\myevnv\\Lib\\site-packages\\keras\\src\\engine\\base_layer_utils.py:384: The name tf.executing_eagerly_outside_functions is deprecated. Please use tf.compat.v1.executing_eagerly_outside_functions instead.\n",
      "\n",
      "644/644 [==============================] - 44s 53ms/step - loss: 7.0718 - accuracy: 0.0305 - val_loss: 7.0003 - val_accuracy: 0.0348\n",
      "Epoch 2/50\n",
      "644/644 [==============================] - 33s 51ms/step - loss: 6.6092 - accuracy: 0.0315 - val_loss: 6.9705 - val_accuracy: 0.0357\n",
      "Epoch 3/50\n",
      "644/644 [==============================] - 32s 50ms/step - loss: 6.4228 - accuracy: 0.0433 - val_loss: 6.9348 - val_accuracy: 0.0414\n",
      "Epoch 4/50\n",
      "644/644 [==============================] - 32s 50ms/step - loss: 6.2669 - accuracy: 0.0477 - val_loss: 6.9985 - val_accuracy: 0.0478\n",
      "Epoch 5/50\n",
      "644/644 [==============================] - 29s 45ms/step - loss: 6.1333 - accuracy: 0.0545 - val_loss: 6.9618 - val_accuracy: 0.0612\n",
      "Epoch 6/50\n",
      "644/644 [==============================] - 27s 42ms/step - loss: 5.9353 - accuracy: 0.0698 - val_loss: 6.9646 - val_accuracy: 0.0690\n",
      "Epoch 7/50\n",
      "644/644 [==============================] - 28s 43ms/step - loss: 5.7030 - accuracy: 0.0837 - val_loss: 6.9641 - val_accuracy: 0.0663\n",
      "Epoch 8/50\n",
      "644/644 [==============================] - 30s 46ms/step - loss: 5.4756 - accuracy: 0.0922 - val_loss: 7.0575 - val_accuracy: 0.0678\n",
      "Epoch 9/50\n",
      "644/644 [==============================] - 26s 40ms/step - loss: 5.2572 - accuracy: 0.1003 - val_loss: 7.1434 - val_accuracy: 0.0725\n",
      "Epoch 10/50\n",
      "644/644 [==============================] - 28s 43ms/step - loss: 5.0377 - accuracy: 0.1071 - val_loss: 7.2152 - val_accuracy: 0.0674\n",
      "Epoch 11/50\n",
      "644/644 [==============================] - 26s 40ms/step - loss: 4.8254 - accuracy: 0.1214 - val_loss: 7.3438 - val_accuracy: 0.0690\n",
      "Epoch 12/50\n",
      "644/644 [==============================] - 27s 42ms/step - loss: 4.6157 - accuracy: 0.1371 - val_loss: 7.4805 - val_accuracy: 0.0696\n",
      "Epoch 13/50\n",
      "644/644 [==============================] - 26s 41ms/step - loss: 4.4160 - accuracy: 0.1607 - val_loss: 7.5738 - val_accuracy: 0.0711\n",
      "Epoch 14/50\n",
      "644/644 [==============================] - 29s 45ms/step - loss: 4.2255 - accuracy: 0.1836 - val_loss: 7.7025 - val_accuracy: 0.0670\n",
      "Epoch 15/50\n",
      "644/644 [==============================] - 31s 48ms/step - loss: 4.0447 - accuracy: 0.2135 - val_loss: 7.8102 - val_accuracy: 0.0668\n",
      "Epoch 16/50\n",
      "644/644 [==============================] - 31s 48ms/step - loss: 3.8750 - accuracy: 0.2372 - val_loss: 7.9033 - val_accuracy: 0.0723\n",
      "Epoch 17/50\n",
      "644/644 [==============================] - 30s 47ms/step - loss: 3.7156 - accuracy: 0.2596 - val_loss: 8.0032 - val_accuracy: 0.0655\n",
      "Epoch 18/50\n",
      "644/644 [==============================] - 31s 48ms/step - loss: 3.5652 - accuracy: 0.2843 - val_loss: 8.0997 - val_accuracy: 0.0666\n",
      "Epoch 19/50\n",
      "644/644 [==============================] - 30s 47ms/step - loss: 3.4303 - accuracy: 0.3073 - val_loss: 8.1625 - val_accuracy: 0.0649\n",
      "Epoch 20/50\n",
      "644/644 [==============================] - 29s 46ms/step - loss: 3.3031 - accuracy: 0.3288 - val_loss: 8.2418 - val_accuracy: 0.0643\n",
      "Epoch 21/50\n",
      "644/644 [==============================] - 30s 47ms/step - loss: 3.1836 - accuracy: 0.3479 - val_loss: 8.2997 - val_accuracy: 0.0657\n",
      "Epoch 22/50\n",
      "644/644 [==============================] - 31s 49ms/step - loss: 3.0799 - accuracy: 0.3634 - val_loss: 8.3767 - val_accuracy: 0.0618\n",
      "Epoch 23/50\n",
      "644/644 [==============================] - 30s 47ms/step - loss: 2.9686 - accuracy: 0.3859 - val_loss: 8.4452 - val_accuracy: 0.0682\n",
      "Epoch 24/50\n",
      "644/644 [==============================] - 30s 47ms/step - loss: 2.8784 - accuracy: 0.4010 - val_loss: 8.5282 - val_accuracy: 0.0614\n",
      "Epoch 25/50\n",
      "644/644 [==============================] - 30s 47ms/step - loss: 2.7799 - accuracy: 0.4215 - val_loss: 8.5778 - val_accuracy: 0.0639\n",
      "Epoch 26/50\n",
      "644/644 [==============================] - 30s 46ms/step - loss: 2.6981 - accuracy: 0.4335 - val_loss: 8.6620 - val_accuracy: 0.0633\n",
      "Epoch 27/50\n",
      "644/644 [==============================] - 30s 46ms/step - loss: 2.6203 - accuracy: 0.4486 - val_loss: 8.7245 - val_accuracy: 0.0598\n",
      "Epoch 28/50\n",
      "644/644 [==============================] - 31s 48ms/step - loss: 2.5365 - accuracy: 0.4630 - val_loss: 8.7887 - val_accuracy: 0.0647\n",
      "Epoch 29/50\n",
      "644/644 [==============================] - 29s 46ms/step - loss: 2.4773 - accuracy: 0.4755 - val_loss: 8.8731 - val_accuracy: 0.0612\n",
      "Epoch 30/50\n",
      "644/644 [==============================] - 29s 46ms/step - loss: 2.4050 - accuracy: 0.4864 - val_loss: 8.9115 - val_accuracy: 0.0633\n",
      "Epoch 31/50\n",
      "644/644 [==============================] - 30s 46ms/step - loss: 2.3450 - accuracy: 0.4982 - val_loss: 8.9916 - val_accuracy: 0.0589\n",
      "Epoch 32/50\n",
      "644/644 [==============================] - 29s 46ms/step - loss: 2.2880 - accuracy: 0.5097 - val_loss: 9.0514 - val_accuracy: 0.0565\n",
      "Epoch 33/50\n",
      "644/644 [==============================] - 30s 46ms/step - loss: 2.2293 - accuracy: 0.5208 - val_loss: 9.1277 - val_accuracy: 0.0596\n",
      "Epoch 34/50\n",
      "644/644 [==============================] - 35s 54ms/step - loss: 2.1756 - accuracy: 0.5307 - val_loss: 9.1791 - val_accuracy: 0.0583\n",
      "Epoch 35/50\n",
      "644/644 [==============================] - 33s 51ms/step - loss: 2.1168 - accuracy: 0.5398 - val_loss: 9.2415 - val_accuracy: 0.0577\n",
      "Epoch 36/50\n",
      "644/644 [==============================] - 30s 47ms/step - loss: 2.0655 - accuracy: 0.5500 - val_loss: 9.3024 - val_accuracy: 0.0595\n",
      "Epoch 37/50\n",
      "644/644 [==============================] - 32s 49ms/step - loss: 2.0279 - accuracy: 0.5581 - val_loss: 9.3585 - val_accuracy: 0.0558\n",
      "Epoch 38/50\n",
      "644/644 [==============================] - 30s 46ms/step - loss: 1.9882 - accuracy: 0.5651 - val_loss: 9.4285 - val_accuracy: 0.0571\n",
      "Epoch 39/50\n",
      "644/644 [==============================] - 31s 48ms/step - loss: 1.9338 - accuracy: 0.5774 - val_loss: 9.4815 - val_accuracy: 0.0546\n",
      "Epoch 40/50\n",
      "644/644 [==============================] - 31s 47ms/step - loss: 1.8955 - accuracy: 0.5841 - val_loss: 9.5014 - val_accuracy: 0.0579\n",
      "Epoch 41/50\n",
      "644/644 [==============================] - 30s 46ms/step - loss: 1.8562 - accuracy: 0.5924 - val_loss: 9.5932 - val_accuracy: 0.0581\n",
      "Epoch 42/50\n",
      "644/644 [==============================] - 29s 46ms/step - loss: 1.8257 - accuracy: 0.5966 - val_loss: 9.6180 - val_accuracy: 0.0521\n",
      "Epoch 43/50\n",
      "644/644 [==============================] - 30s 46ms/step - loss: 1.7900 - accuracy: 0.6049 - val_loss: 9.6752 - val_accuracy: 0.0544\n",
      "Epoch 44/50\n",
      "644/644 [==============================] - 28s 43ms/step - loss: 1.7481 - accuracy: 0.6117 - val_loss: 9.7486 - val_accuracy: 0.0540\n",
      "Epoch 45/50\n",
      "644/644 [==============================] - 30s 46ms/step - loss: 1.7179 - accuracy: 0.6202 - val_loss: 9.7899 - val_accuracy: 0.0534\n",
      "Epoch 46/50\n",
      "644/644 [==============================] - 29s 46ms/step - loss: 1.6733 - accuracy: 0.6266 - val_loss: 9.8623 - val_accuracy: 0.0546\n",
      "Epoch 47/50\n",
      "644/644 [==============================] - 31s 48ms/step - loss: 1.6517 - accuracy: 0.6315 - val_loss: 9.9379 - val_accuracy: 0.0550\n",
      "Epoch 48/50\n",
      "644/644 [==============================] - 29s 46ms/step - loss: 1.6233 - accuracy: 0.6365 - val_loss: 9.9770 - val_accuracy: 0.0521\n",
      "Epoch 49/50\n",
      "644/644 [==============================] - 30s 47ms/step - loss: 1.5990 - accuracy: 0.6439 - val_loss: 10.0207 - val_accuracy: 0.0540\n",
      "Epoch 50/50\n",
      "644/644 [==============================] - 30s 46ms/step - loss: 1.5757 - accuracy: 0.6453 - val_loss: 10.0778 - val_accuracy: 0.0513\n"
     ]
    }
   ],
   "source": [
    "### Train the model\n",
    "history=model.fit(x_train,y_train,epochs=50,validation_data=(x_test,y_test),verbose=1)"
   ]
  },
  {
   "cell_type": "code",
   "execution_count": 12,
   "metadata": {},
   "outputs": [],
   "source": [
    "### Function to predict the next word\n",
    "def predict_next_word(model,tokenizer,text,max_seq_len):\n",
    "    token_lst=tokenizer.texts_to_sequences([text])[0]\n",
    "    if len(token_lst)>=max_seq_len:\n",
    "        token_lst=token_lst[-(max_seq_len-1)]\n",
    "    token_lst=pad_sequences([token_lst],maxlen=max_seq_len-1,padding='pre')\n",
    "    predicted=model.predict(token_lst,verbose=0)\n",
    "    predict_word_index=np.argmax(predicted,axis=1)\n",
    "    for word,index in tokenizer.word_index.items():\n",
    "        if index==predict_word_index:\n",
    "            return word\n",
    "    return None"
   ]
  },
  {
   "cell_type": "code",
   "execution_count": 13,
   "metadata": {},
   "outputs": [
    {
     "name": "stdout",
     "output_type": "stream",
     "text": [
      "Input_text:To beat the man you got to be the\n",
      "Next word prediction:kinde\n"
     ]
    }
   ],
   "source": [
    "input_text='To beat the man you got to be the'\n",
    "print(f'Input_text:{input_text}')\n",
    "max_seq_len=model.input_shape[1]+1\n",
    "next_word=predict_next_word(model,tokenizer,input_text,max_seq_len)\n",
    "print(f'Next word prediction:{next_word}')"
   ]
  },
  {
   "cell_type": "code",
   "execution_count": 14,
   "metadata": {},
   "outputs": [
    {
     "name": "stderr",
     "output_type": "stream",
     "text": [
      "c:\\Users\\Windows\\LLM_course\\myevnv\\Lib\\site-packages\\keras\\src\\engine\\training.py:3103: UserWarning: You are saving your model as an HDF5 file via `model.save()`. This file format is considered legacy. We recommend using instead the native Keras format, e.g. `model.save('my_model.keras')`.\n",
      "  saving_api.save_model(\n"
     ]
    }
   ],
   "source": [
    "### saving the model\n",
    "model.save('next_word_pred_gru_rnn.h5')\n",
    "\n",
    "### saving tokenizer\n",
    "import pickle\n",
    "with open('tokenizer1.pickle','wb') as handle:\n",
    "    pickle.dump(tokenizer,handle,protocol=pickle.HIGHEST_PROTOCOL)"
   ]
  },
  {
   "cell_type": "code",
   "execution_count": 15,
   "metadata": {},
   "outputs": [
    {
     "name": "stdout",
     "output_type": "stream",
     "text": [
      "Input_text:To be not to be\n",
      "Next word prediction:buried\n"
     ]
    }
   ],
   "source": [
    "input_text='To be not to be'\n",
    "print(f'Input_text:{input_text}')\n",
    "max_seq_len=model.input_shape[1]+1\n",
    "next_word=predict_next_word(model,tokenizer,input_text,max_seq_len)\n",
    "print(f'Next word prediction:{next_word}')"
   ]
  }
 ],
 "metadata": {
  "kernelspec": {
   "display_name": "myevnv",
   "language": "python",
   "name": "python3"
  },
  "language_info": {
   "codemirror_mode": {
    "name": "ipython",
    "version": 3
   },
   "file_extension": ".py",
   "mimetype": "text/x-python",
   "name": "python",
   "nbconvert_exporter": "python",
   "pygments_lexer": "ipython3",
   "version": "3.11.3"
  }
 },
 "nbformat": 4,
 "nbformat_minor": 2
}
